{
  "nbformat": 4,
  "nbformat_minor": 0,
  "metadata": {
    "colab": {
      "provenance": [],
      "authorship_tag": "ABX9TyP7TRl4iC+Do9TcotC4NP0z",
      "include_colab_link": true
    },
    "kernelspec": {
      "name": "python3",
      "display_name": "Python 3"
    },
    "language_info": {
      "name": "python"
    }
  },
  "cells": [
    {
      "cell_type": "markdown",
      "metadata": {
        "id": "view-in-github",
        "colab_type": "text"
      },
      "source": [
        "<a href=\"https://colab.research.google.com/github/rahimsheik/cie-1/blob/main/cie2.ipynb\" target=\"_parent\"><img src=\"https://colab.research.google.com/assets/colab-badge.svg\" alt=\"Open In Colab\"/></a>"
      ]
    },
    {
      "cell_type": "code",
      "execution_count": 3,
      "metadata": {
        "colab": {
          "base_uri": "https://localhost:8080/"
        },
        "id": "JJ_qBXn7wcIh",
        "outputId": "bf80696a-da83-4fd7-bc1d-0a3ee83ee845"
      },
      "outputs": [
        {
          "output_type": "execute_result",
          "data": {
            "text/plain": [
              "(PassengerId      0\n",
              " Survived         0\n",
              " Pclass           0\n",
              " Name             0\n",
              " Sex              0\n",
              " Age            177\n",
              " SibSp            0\n",
              " Parch            0\n",
              " Ticket           0\n",
              " Fare             0\n",
              " Cabin          687\n",
              " Embarked         2\n",
              " dtype: int64,\n",
              "    PassengerId  Survived  Pclass  \\\n",
              " 0            1         0       3   \n",
              " 1            2         1       1   \n",
              " 2            3         1       3   \n",
              " 3            4         1       1   \n",
              " 4            5         0       3   \n",
              " \n",
              "                                                 Name     Sex   Age  SibSp  \\\n",
              " 0                            Braund, Mr. Owen Harris    male  22.0      1   \n",
              " 1  Cumings, Mrs. John Bradley (Florence Briggs Th...  female  38.0      1   \n",
              " 2                             Heikkinen, Miss. Laina  female  26.0      0   \n",
              " 3       Futrelle, Mrs. Jacques Heath (Lily May Peel)  female  35.0      1   \n",
              " 4                           Allen, Mr. William Henry    male  35.0      0   \n",
              " \n",
              "    Parch            Ticket     Fare Cabin Embarked  \n",
              " 0      0         A/5 21171   7.2500   NaN        S  \n",
              " 1      0          PC 17599  71.2833   C85        C  \n",
              " 2      0  STON/O2. 3101282   7.9250   NaN        S  \n",
              " 3      0            113803  53.1000  C123        S  \n",
              " 4      0            373450   8.0500   NaN        S  )"
            ]
          },
          "metadata": {},
          "execution_count": 3
        }
      ],
      "source": [
        "import pandas as pd\n",
        "url = \"/content/titanic.csv\"\n",
        "titanic_df=pd.read_csv(url)\n",
        "null_values=titanic_df.isnull().sum()\n",
        "titanic_filled_df=titanic_df.fillna(titanic_df.mean(numeric_only=True))\n",
        "null_values,titanic_filled_df.head()"
      ]
    },
    {
      "cell_type": "code",
      "source": [
        "import matplotlib.pyplot as plt\n",
        "import seaborn as sns\n",
        "from scipy import stats\n",
        "plt.figure(figsize=(8,6))\n",
        "plt.boxplot(x=data['Fare'])\n",
        "plt.title(\"box plot of outliers\")\n",
        "plt.show\n",
        "zscore=stats.zscore(data['Fare'])\n",
        "threshold=3\n",
        "zscore_outliers=data[abs(zscore)>threshold]\n",
        "print(\"outliers are:\")\n",
        "print(zscore_outliers)"
      ],
      "metadata": {
        "colab": {
          "base_uri": "https://localhost:8080/",
          "height": 1000
        },
        "id": "rq9NhqRdwjDw",
        "outputId": "f90cf89a-21a3-4191-fe0b-10c00eee42d5"
      },
      "execution_count": 9,
      "outputs": [
        {
          "output_type": "stream",
          "name": "stdout",
          "text": [
            "outliers are:\n",
            "     PassengerId  Survived  Pclass  \\\n",
            "27            28         0       1   \n",
            "88            89         1       1   \n",
            "118          119         0       1   \n",
            "258          259         1       1   \n",
            "299          300         1       1   \n",
            "311          312         1       1   \n",
            "341          342         1       1   \n",
            "377          378         0       1   \n",
            "380          381         1       1   \n",
            "438          439         0       1   \n",
            "527          528         0       1   \n",
            "557          558         0       1   \n",
            "679          680         1       1   \n",
            "689          690         1       1   \n",
            "700          701         1       1   \n",
            "716          717         1       1   \n",
            "730          731         1       1   \n",
            "737          738         1       1   \n",
            "742          743         1       1   \n",
            "779          780         1       1   \n",
            "\n",
            "                                                  Name     Sex   Age  SibSp  \\\n",
            "27                      Fortune, Mr. Charles Alexander    male  19.0      3   \n",
            "88                          Fortune, Miss. Mabel Helen  female  23.0      3   \n",
            "118                           Baxter, Mr. Quigg Edmond    male  24.0      0   \n",
            "258                                   Ward, Miss. Anna  female  35.0      0   \n",
            "299    Baxter, Mrs. James (Helene DeLaudeniere Chaput)  female  50.0      0   \n",
            "311                         Ryerson, Miss. Emily Borie  female  18.0      2   \n",
            "341                     Fortune, Miss. Alice Elizabeth  female  24.0      3   \n",
            "377                          Widener, Mr. Harry Elkins    male  27.0      0   \n",
            "380                              Bidois, Miss. Rosalie  female  42.0      0   \n",
            "438                                  Fortune, Mr. Mark    male  64.0      1   \n",
            "527                                 Farthing, Mr. John    male   NaN      0   \n",
            "557                                Robbins, Mr. Victor    male   NaN      0   \n",
            "679                 Cardeza, Mr. Thomas Drake Martinez    male  36.0      0   \n",
            "689                  Madill, Miss. Georgette Alexandra  female  15.0      0   \n",
            "700  Astor, Mrs. John Jacob (Madeleine Talmadge Force)  female  18.0      1   \n",
            "716                      Endres, Miss. Caroline Louise  female  38.0      0   \n",
            "730                      Allen, Miss. Elisabeth Walton  female  29.0      0   \n",
            "737                             Lesurer, Mr. Gustave J    male  35.0      0   \n",
            "742              Ryerson, Miss. Susan Parker \"Suzette\"  female  21.0      2   \n",
            "779  Robert, Mrs. Edward Scott (Elisabeth Walton Mc...  female  43.0      0   \n",
            "\n",
            "     Parch    Ticket      Fare            Cabin Embarked  \n",
            "27       2     19950  263.0000      C23 C25 C27        S  \n",
            "88       2     19950  263.0000      C23 C25 C27        S  \n",
            "118      1  PC 17558  247.5208          B58 B60        C  \n",
            "258      0  PC 17755  512.3292              NaN        C  \n",
            "299      1  PC 17558  247.5208          B58 B60        C  \n",
            "311      2  PC 17608  262.3750  B57 B59 B63 B66        C  \n",
            "341      2     19950  263.0000      C23 C25 C27        S  \n",
            "377      2    113503  211.5000              C82        C  \n",
            "380      0  PC 17757  227.5250              NaN        C  \n",
            "438      4     19950  263.0000      C23 C25 C27        S  \n",
            "527      0  PC 17483  221.7792              C95        S  \n",
            "557      0  PC 17757  227.5250              NaN        C  \n",
            "679      1  PC 17755  512.3292      B51 B53 B55        C  \n",
            "689      1     24160  211.3375               B5        S  \n",
            "700      0  PC 17757  227.5250          C62 C64        C  \n",
            "716      0  PC 17757  227.5250              C45        C  \n",
            "730      0     24160  211.3375               B5        S  \n",
            "737      0  PC 17755  512.3292             B101        C  \n",
            "742      2  PC 17608  262.3750  B57 B59 B63 B66        C  \n",
            "779      1     24160  211.3375               B3        S  \n"
          ]
        },
        {
          "output_type": "display_data",
          "data": {
            "text/plain": [
              "<Figure size 800x600 with 1 Axes>"
            ],
            "image/png": "[encoded data removed]"
          },
          "metadata": {}
        }
      ]
    },
    {
      "cell_type": "code",
      "source": [
        "import pandas as pd\n",
        "import numpy as np\n",
        "from scipy import stats\n",
        "data=pd.read_csv(\"/content/titanic.csv\")\n",
        "mean=np.mean(data['Age'])\n",
        "median=np.median(data['Age'])\n",
        "mode=stats.mode(data['Age'])\n",
        "mean1=np.mean(data['Fare'])\n",
        "median1=np.median(data['Fare'])\n",
        "mode1=stats.mode(data['Fare'])\n",
        "print(\"central tendency\")\n",
        "print('mean of age',mean)\n",
        "print('median of age',median)\n",
        "print('mode of age',mode)\n",
        "print('mean1 of fare',mean1)\n",
        "print('median1 of fare',median1)\n",
        "print('mode1 of fare',mode1)"
      ],
      "metadata": {
        "colab": {
          "base_uri": "https://localhost:8080/"
        },
        "id": "vjwY4AFmwj1D",
        "outputId": "8eea3189-9211-4c28-ea81-6506c1358692"
      },
      "execution_count": 6,
      "outputs": [
        {
          "output_type": "stream",
          "name": "stdout",
          "text": [
            "central tendency\n",
            "mean of age 29.69911764705882\n",
            "median of age nan\n",
            "mode of age ModeResult(mode=nan, count=177)\n",
            "mean1 of fare 32.204207968574636\n",
            "median1 of fare 14.4542\n",
            "mode1 of fare ModeResult(mode=8.05, count=43)\n"
          ]
        }
      ]
    },
    {
      "cell_type": "code",
      "source": [
        "import pandas as pd\n",
        "import matplotlib.pyplot as plt\n",
        "filtered_data=data[data['Survived'].isin([0,1])]\n",
        "data.replace(to_replace='survived',value=1,inplace=True)\n",
        "data.replace(to_replace='not survived',value=0,inplace=True)\n",
        "data['Survived'].value_counts().plot(kind='bar',color=['red','green'])\n",
        "plt.title('survived_status')\n",
        "plt.xlabel('survived')\n",
        "plt.ylabel('count')\n",
        "plt.xticks(ticks=[0,1],labels=['not survived','survived'],rotation=0)\n",
        "plt.show()"
      ],
      "metadata": {
        "colab": {
          "base_uri": "https://localhost:8080/",
          "height": 211
        },
        "id": "U17enjd4wkCE",
        "outputId": "eb6b4d38-4243-4312-e8a0-8d48d7fa3f2f"
      },
      "execution_count": 4,
      "outputs": [
        {
          "output_type": "error",
          "ename": "NameError",
          "evalue": "name 'data' is not defined",
          "traceback": [
            "\u001b[0;31m---------------------------------------------------------------------------\u001b[0m",
            "\u001b[0;31mNameError\u001b[0m                                 Traceback (most recent call last)",
            "\u001b[0;32m<ipython-input-4-079eb37016e3>\u001b[0m in \u001b[0;36m<cell line: 3>\u001b[0;34m()\u001b[0m\n\u001b[1;32m      1\u001b[0m \u001b[0;32mimport\u001b[0m \u001b[0mpandas\u001b[0m \u001b[0;32mas\u001b[0m \u001b[0mpd\u001b[0m\u001b[0;34m\u001b[0m\u001b[0;34m\u001b[0m\u001b[0m\n\u001b[1;32m      2\u001b[0m \u001b[0;32mimport\u001b[0m \u001b[0mmatplotlib\u001b[0m\u001b[0;34m.\u001b[0m\u001b[0mpyplot\u001b[0m \u001b[0;32mas\u001b[0m \u001b[0mplt\u001b[0m\u001b[0;34m\u001b[0m\u001b[0;34m\u001b[0m\u001b[0m\n\u001b[0;32m----> 3\u001b[0;31m \u001b[0mfiltered_data\u001b[0m\u001b[0;34m=\u001b[0m\u001b[0mdata\u001b[0m\u001b[0;34m[\u001b[0m\u001b[0mdata\u001b[0m\u001b[0;34m[\u001b[0m\u001b[0;34m'Survived'\u001b[0m\u001b[0;34m]\u001b[0m\u001b[0;34m.\u001b[0m\u001b[0misin\u001b[0m\u001b[0;34m(\u001b[0m\u001b[0;34m[\u001b[0m\u001b[0;36m0\u001b[0m\u001b[0;34m,\u001b[0m\u001b[0;36m1\u001b[0m\u001b[0;34m]\u001b[0m\u001b[0;34m)\u001b[0m\u001b[0;34m]\u001b[0m\u001b[0;34m\u001b[0m\u001b[0;34m\u001b[0m\u001b[0m\n\u001b[0m\u001b[1;32m      4\u001b[0m \u001b[0mdata\u001b[0m\u001b[0;34m.\u001b[0m\u001b[0mreplace\u001b[0m\u001b[0;34m(\u001b[0m\u001b[0mto_replace\u001b[0m\u001b[0;34m=\u001b[0m\u001b[0;34m'survived'\u001b[0m\u001b[0;34m,\u001b[0m\u001b[0mvalue\u001b[0m\u001b[0;34m=\u001b[0m\u001b[0;36m1\u001b[0m\u001b[0;34m,\u001b[0m\u001b[0minplace\u001b[0m\u001b[0;34m=\u001b[0m\u001b[0;32mTrue\u001b[0m\u001b[0;34m)\u001b[0m\u001b[0;34m\u001b[0m\u001b[0;34m\u001b[0m\u001b[0m\n\u001b[1;32m      5\u001b[0m \u001b[0mdata\u001b[0m\u001b[0;34m.\u001b[0m\u001b[0mreplace\u001b[0m\u001b[0;34m(\u001b[0m\u001b[0mto_replace\u001b[0m\u001b[0;34m=\u001b[0m\u001b[0;34m'not survived'\u001b[0m\u001b[0;34m,\u001b[0m\u001b[0mvalue\u001b[0m\u001b[0;34m=\u001b[0m\u001b[0;36m0\u001b[0m\u001b[0;34m,\u001b[0m\u001b[0minplace\u001b[0m\u001b[0;34m=\u001b[0m\u001b[0;32mTrue\u001b[0m\u001b[0;34m)\u001b[0m\u001b[0;34m\u001b[0m\u001b[0;34m\u001b[0m\u001b[0m\n",
            "\u001b[0;31mNameError\u001b[0m: name 'data' is not defined"
          ]
        }
      ]
    }
  ]
}